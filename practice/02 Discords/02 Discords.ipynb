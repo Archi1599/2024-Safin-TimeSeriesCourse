{
 "cells": [
  {
   "cell_type": "markdown",
   "id": "7be586b7-d6f3-4550-9cd1-193f7e525ee6",
   "metadata": {},
   "source": [
    "## Анализ и прогнозирование временных рядов методами искусственного интеллекта"
   ]
  },
  {
   "cell_type": "markdown",
   "id": "eebe5bf0-ce93-43af-b2be-fd1504fdaaa6",
   "metadata": {},
   "source": [
    "### **Практическая работа 2. Поиск аномалий во временных рядах.**\n"
   ]
  },
  {
   "cell_type": "markdown",
   "id": "2a887099-bf4a-4db2-b0f7-3396622897eb",
   "metadata": {},
   "source": [
    "##### *Краткое описание*"
   ]
  },
  {
   "cell_type": "markdown",
   "id": "a76e73ec-3fcf-4052-97a9-b7d4e96f37dd",
   "metadata": {},
   "source": [
    "##### *Структура и оценивание*"
   ]
  },
  {
   "cell_type": "markdown",
   "id": "572ef2c8-c159-412c-a81e-1989f4826480",
   "metadata": {},
   "source": [
    "##### *Сроки выполнения*"
   ]
  },
  {
   "cell_type": "markdown",
   "id": "5f4aadf3-029c-49ef-8c65-7b0113d4c5d8",
   "metadata": {},
   "source": [
    "#### **2.1 Поиск диссонансов с помощью алгоритма HotSAX**"
   ]
  },
  {
   "cell_type": "markdown",
   "id": "e6624009-5343-49b4-a869-6958f4d372bd",
   "metadata": {
    "jp-MarkdownHeadingCollapsed": true
   },
   "source": [
    "##### *Краткое описание*"
   ]
  },
  {
   "cell_type": "markdown",
   "id": "0d5d1e07-d1d1-4f72-8be2-44e57d707b23",
   "metadata": {},
   "source": [
    "##### 2.1.1 Загрузка и подготовка данных\n",
    "fixme: добавить описание данных и саму выгрузку данных"
   ]
  },
  {
   "cell_type": "code",
   "execution_count": null,
   "id": "f85f03fd-c0de-4bca-a360-65d47ac5250b",
   "metadata": {},
   "outputs": [],
   "source": []
  },
  {
   "cell_type": "markdown",
   "id": "3446289e-d33f-4af4-9cc1-bdd6c1f8bfd4",
   "metadata": {},
   "source": [
    "##### 2.1.2 Брутфорс реализация"
   ]
  },
  {
   "cell_type": "markdown",
   "id": "f8732400-96fc-47c8-8ed0-e574744268d6",
   "metadata": {},
   "source": [
    "Приводится пример кода для нахождения топ 5 диссонансов с помощью брутфорс реализация.\n",
    "Вам неоюходимо добавить код для сбора времени обработки данных."
   ]
  },
  {
   "cell_type": "code",
   "execution_count": null,
   "id": "da5a27cd-3be5-4484-8a87-e8afd70e4940",
   "metadata": {},
   "outputs": [],
   "source": []
  },
  {
   "cell_type": "markdown",
   "id": "12a30874-8f4c-4cc8-b1ba-000180ffcb6a",
   "metadata": {},
   "source": [
    "##### 2.1.3 HotSAX"
   ]
  },
  {
   "cell_type": "markdown",
   "id": "2bb0826a-1c08-4792-98cc-df3ef92e9c48",
   "metadata": {
    "scrolled": true
   },
   "source": [
    "Используя [реализацию](https://github.com/seninp/saxpy/tree/master) найдите топ 5 диссонансов ряда.\n",
    "Произведите замер времени работы. (уточнить про реализацию поиска соседей)"
   ]
  },
  {
   "cell_type": "code",
   "execution_count": null,
   "id": "b65d9897-70e2-49b5-ac84-46cc4102fc02",
   "metadata": {
    "jupyter": {
     "source_hidden": true
    }
   },
   "outputs": [],
   "source": []
  },
  {
   "cell_type": "markdown",
   "id": "b751c0fe-19af-4d48-8e63-aa5691300e10",
   "metadata": {},
   "source": [
    "##### 2.1.4 Визаулизация"
   ]
  },
  {
   "cell_type": "markdown",
   "id": "f1426e51-bd33-4a61-b7d7-84776b69f864",
   "metadata": {},
   "source": [
    "Вам необходимо реализовать код позволяющий:\n",
    "1. Вывести на одном графике ряд и его диссонансы\n",
    "2. Графики времени работы\n",
    "   \n",
    "Постройте графики для обоих моделей  и сравните полученные результаты. Сделайте выводы"
   ]
  },
  {
   "cell_type": "code",
   "execution_count": null,
   "id": "ad12387f-20a7-48a7-86bc-3bca14842382",
   "metadata": {},
   "outputs": [],
   "source": []
  },
  {
   "cell_type": "markdown",
   "id": "955358a3-797c-4cd7-ab12-250657e54632",
   "metadata": {},
   "source": [
    "#### **2.2 Поиск диссонансов с помощью алгоритма DRAG**"
   ]
  },
  {
   "cell_type": "markdown",
   "id": "9c8ef554-9d01-46f6-8907-cf9d9367ed84",
   "metadata": {
    "jp-MarkdownHeadingCollapsed": true
   },
   "source": [
    "##### *Краткое описание*"
   ]
  },
  {
   "cell_type": "markdown",
   "id": "4855c822-825b-4ac2-acef-8dff46e43a45",
   "metadata": {},
   "source": [
    "##### 2.2.1 Загрузка и подготовка данных\n",
    "fixme: добавить описание данных и саму выгрузку данных"
   ]
  },
  {
   "cell_type": "code",
   "execution_count": null,
   "id": "f9059044-19dd-4e7f-af7a-50f3c106e532",
   "metadata": {},
   "outputs": [],
   "source": []
  },
  {
   "cell_type": "markdown",
   "id": "cbda41b0-5255-4e67-92f7-e69b058c8d48",
   "metadata": {},
   "source": [
    "##### 2.2.2 DRAG"
   ]
  },
  {
   "cell_type": "markdown",
   "id": "6a2ea014-b125-470c-a47e-d4fb4d35ff5d",
   "metadata": {
    "scrolled": true
   },
   "source": [
    "Используя [реализацию]() найдите топ 5 диссонансов ряда.\n",
    "Произведите замер времени работы. (уточнить про реализацию поиска соседей)"
   ]
  },
  {
   "cell_type": "code",
   "execution_count": null,
   "id": "5fe04aa9-ba60-4c3b-b310-d0fe4762a7a5",
   "metadata": {},
   "outputs": [],
   "source": []
  },
  {
   "cell_type": "markdown",
   "id": "d373b861-6113-4068-ab8d-c8286ece0621",
   "metadata": {},
   "source": [
    "##### 2.2.3 Визаулизация"
   ]
  },
  {
   "cell_type": "markdown",
   "id": "fd66f2fe-6e3f-451e-b2e4-82383111ef22",
   "metadata": {},
   "source": [
    "Вам необходимо реализовать код позволяющий:\n",
    "1. Вывести на одном графике ряд и его диссонансы\n",
    "2. Графики времени работы\n",
    "   \n",
    "Постройте графики для моделей и сравните полученные результаты с алгоритмами из предыдущих пунктов. \n",
    "Сделайте выводы"
   ]
  },
  {
   "cell_type": "code",
   "execution_count": null,
   "id": "916427c9-6aea-4f2c-9564-3bb4e3421f99",
   "metadata": {},
   "outputs": [],
   "source": []
  },
  {
   "cell_type": "markdown",
   "id": "61a875ca-fbb8-4629-aad2-10a4e83336ce",
   "metadata": {},
   "source": [
    "#### **2.3 Поиск диссонансов с помощью алгоритма Merlin**"
   ]
  },
  {
   "cell_type": "markdown",
   "id": "af8f68f1-5269-4a22-9e66-947ee3125680",
   "metadata": {
    "jp-MarkdownHeadingCollapsed": true
   },
   "source": [
    "##### *Краткое описание*"
   ]
  },
  {
   "cell_type": "markdown",
   "id": "cd64a07e-160f-4c9d-9d19-80552ca1e4a2",
   "metadata": {},
   "source": [
    "##### 2.3.1 Загрузка и подготовка данных\n",
    "fixme: добавить описание данных и саму выгрузку данных"
   ]
  },
  {
   "cell_type": "code",
   "execution_count": null,
   "id": "7afb5736-09ed-4a3e-b070-135032f469d4",
   "metadata": {},
   "outputs": [],
   "source": []
  },
  {
   "cell_type": "markdown",
   "id": "2c42154a-193a-49ec-9f49-e9994d96bcd0",
   "metadata": {},
   "source": [
    "##### 2.3.2 Merlin"
   ]
  },
  {
   "cell_type": "markdown",
   "id": "c0c51c57-1950-43fa-b546-f92a61bdf287",
   "metadata": {
    "scrolled": true
   },
   "source": [
    "Используя [реализацию]() найдите топ 5 диссонансов ряда.\n",
    "Произведите замер времени работы. (уточнить про реализацию поиска соседей)"
   ]
  },
  {
   "cell_type": "code",
   "execution_count": null,
   "id": "bdc351ac-ce27-4f08-a953-d5a9f086430a",
   "metadata": {},
   "outputs": [],
   "source": []
  },
  {
   "cell_type": "markdown",
   "id": "53362322-7c09-499e-b709-b00195adc3d1",
   "metadata": {},
   "source": [
    "##### 2.3.3 Визаулизация"
   ]
  },
  {
   "cell_type": "markdown",
   "id": "a75aedd6-980c-446e-b9c5-600c09861ca7",
   "metadata": {},
   "source": [
    "Вам необходимо реализовать код позволяющий:\n",
    "1. Вывести на одном графике ряд и его диссонансы\n",
    "2. Графики времени работы\n",
    "   \n",
    "Постройте графики для моделей и сравните полученные результаты с алгоритмами из предыдущих пунктов. \n",
    "Сделайте выводы"
   ]
  }
 ],
 "metadata": {
  "kernelspec": {
   "display_name": "Python 3 (ipykernel)",
   "language": "python",
   "name": "python3"
  },
  "language_info": {
   "codemirror_mode": {
    "name": "ipython",
    "version": 3
   },
   "file_extension": ".py",
   "mimetype": "text/x-python",
   "name": "python",
   "nbconvert_exporter": "python",
   "pygments_lexer": "ipython3",
   "version": "3.8.15"
  }
 },
 "nbformat": 4,
 "nbformat_minor": 5
}
